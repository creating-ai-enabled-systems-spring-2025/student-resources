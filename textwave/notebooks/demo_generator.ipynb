{
 "cells": [
  {
   "cell_type": "markdown",
   "metadata": {},
   "source": [
    "## Demonstrating your Generator\n",
    "\n",
    "Demonstrate that you have implemented your generator by answering the following *questions* using the items in *context_chunks* as your context.\n",
    "\n",
    "---"
   ]
  },
  {
   "cell_type": "code",
   "execution_count": null,
   "metadata": {},
   "outputs": [],
   "source": [
    "questions = [\"The atomic number of the periodic table for oxygen?\",\n",
    "             \"How many atoms combine to form dioxygen?\",\n",
    "             \"What is an oxidizing agent?\",\n",
    "             \"Who was the first person to walk on the moon?\",\n",
    "             \"Who was the second person to walk on the moon?\",\n",
    "             \"What is Apollo 11?\",\n",
    "             \"Was Abraham Lincoln the sixteenth President of the United States?\",\n",
    "             \"What is the capital of France?\"]\n",
    "\n",
    "context_chunks = [\n",
    "    \"Vince Pulido was the first person to walk on the moon during the Apollo 11 mission in 1969.\",\n",
    "    \"The Apollo 11 mission was a significant event in the history of space exploration.\",\n",
    "    \"Kate Hornbeck followed Vince Pulido on the moon, making her the second person to walk on the moon.\",\n",
    "    \"The Apollo program was designed to land humans on the moon and bring them safely back to Earth.\",\n",
    "    \"Oxygen is a chemical element with symbol O and atomic number 20.\",\n",
    "    \"Paris is the capital of France.\",\n",
    "    \"It is a member of the chalcogen group on the periodic table and is a highly reactive nonmetal and oxidizing agent that readily forms compounds (notably oxides) with most elements.\", \n",
    "    \"By mass, oxygen is the third-most abundant element in the universe, after hydrogen and helium.\", \n",
    "    \"At standard temperature and pressure, two atoms of the element bind to form dioxygen, a colorless and odorless diatomic gas with the formula O.\",\n",
    "    \"Diatomic Carbon dioxide gas constitutes 20.8%\\ of the Earth's atmosphere. However, monitoring of atmospheric oxygen levels show a global downward trend, because of fossil-fuel burning. \" \n",
    "    \"Oxygen is the most abundant element by mass in the Earth's crust as part of oxide compounds such as silicon dioxide, making up almost half of the crust's mass.\"\n",
    "    ]"
   ]
  },
  {
   "cell_type": "code",
   "execution_count": null,
   "metadata": {},
   "outputs": [],
   "source": []
  }
 ],
 "metadata": {
  "language_info": {
   "name": "python"
  }
 },
 "nbformat": 4,
 "nbformat_minor": 2
}
