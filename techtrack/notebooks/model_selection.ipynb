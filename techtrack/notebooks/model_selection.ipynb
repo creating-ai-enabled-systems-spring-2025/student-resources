{
 "cells": [
  {
   "cell_type": "markdown",
   "metadata": {},
   "source": [
    "# Model Selection"
   ]
  },
  {
   "cell_type": "code",
   "execution_count": null,
   "metadata": {},
   "outputs": [],
   "source": [
    "import os\n",
    "import cv2\n",
    "import numpy as np\n",
    "\n",
    "import sys\n",
    "sys.path.append(\"..\")\n",
    "\n",
    "# include your import statements"
   ]
  },
  {
   "cell_type": "markdown",
   "metadata": {},
   "source": [
    "#### **Task 5: Assignment Instructions:**\n",
    "A. Compare and contrast the performance of YOLO Model 1 and YOLO Model 2 by demonstrating the weaknesses and strengths of each model. \n",
    "B. Finally, select the best model and state the reasons why this model is best suited for the TechTrack's system implementation.\n",
    "\n",
    "**Reminder:**  \n",
    "- Your notebook should be well-structured and clear for effective presentation. Up to 10 points may be deducted for poor structure and clarity.\n",
    "- Consider this report as if it were being reviewed by **TechTrack stakeholders**. Keep it professional, insightful, and visually organized!\n",
    "- Use visualizations, tables, and quantitative analysis where applicable to support your findings."
   ]
  },
  {
   "cell_type": "markdown",
   "metadata": {},
   "source": [
    "---"
   ]
  },
  {
   "cell_type": "markdown",
   "metadata": {},
   "source": [
    "#### **Task A:**\n",
    "**Compare and contrast the performance of YOLO Model 1 and YOLO Model 2 by demonstrating the weaknesses and strengths of each model.**"
   ]
  },
  {
   "cell_type": "code",
   "execution_count": null,
   "metadata": {},
   "outputs": [],
   "source": [
    "# Place your code here...\n",
    "# Use as many cells as needed."
   ]
  },
  {
   "cell_type": "markdown",
   "metadata": {},
   "source": [
    "---"
   ]
  },
  {
   "cell_type": "markdown",
   "metadata": {},
   "source": [
    "#### **Task B:**\n",
    "**Select the best model and state the reasons why this model is best suited for the TechTrack's system implementation.**"
   ]
  },
  {
   "cell_type": "markdown",
   "metadata": {},
   "source": [
    "*You select Model X...because...*"
   ]
  },
  {
   "cell_type": "markdown",
   "metadata": {},
   "source": []
  }
 ],
 "metadata": {
  "language_info": {
   "name": "python"
  }
 },
 "nbformat": 4,
 "nbformat_minor": 2
}
