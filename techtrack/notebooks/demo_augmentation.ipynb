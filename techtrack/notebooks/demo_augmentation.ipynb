{
 "cells": [
  {
   "cell_type": "markdown",
   "metadata": {},
   "source": [
    "# Demonstration of Augmentater"
   ]
  },
  {
   "cell_type": "code",
   "execution_count": 1,
   "metadata": {},
   "outputs": [],
   "source": [
    "import os\n",
    "import cv2\n",
    "import numpy as np\n",
    "import pandas as pd\n",
    "\n",
    "import sys\n",
    "sys.path.append(\"..\")\n",
    "\n",
    "from modules.rectification.augmentation import Augmenter"
   ]
  },
  {
   "cell_type": "markdown",
   "metadata": {},
   "source": [
    "---"
   ]
  },
  {
   "cell_type": "markdown",
   "metadata": {},
   "source": [
    "**Assignment Instructions:**\n",
    "1. Define augmenter parameters (i.e., `kwargs = {'image': image, ...}`)\n",
    "2. Initialize Augmenter\n",
    "3. Display and demonstrate the following features by displaying 5 images.\n",
    "    - horizontal_flip\n",
    "    - gaussian_blur\n",
    "    - resize\n",
    "    - change_brightness\n",
    "    - transform\n",
    "    - \"your_custom_transformation\"\n",
    "4. Measure the loss for each of these transformation, and note any observations. \n",
    "\n",
    "**Reminder:**  \n",
    "- Your notebook should be well-structured and clear for effective presentation. Up to 10 points may be deducted for poor structure and clarity.\n",
    "- Consider this report as if it were being reviewed by **TechTrack stakeholders**. Keep it professional, insightful, and visually organized!\n",
    "- Use visualizations, tables, and quantitative analysis where applicable to support your findings."
   ]
  },
  {
   "cell_type": "markdown",
   "metadata": {},
   "source": [
    "[comment]: <> (This is a comment for spacing, it will not be included)"
   ]
  },
  {
   "cell_type": "markdown",
   "metadata": {},
   "source": [
    "---"
   ]
  },
  {
   "cell_type": "code",
   "execution_count": null,
   "metadata": {},
   "outputs": [],
   "source": []
  }
 ],
 "metadata": {
  "kernelspec": {
   "display_name": "ai_systems",
   "language": "python",
   "name": "python3"
  },
  "language_info": {
   "codemirror_mode": {
    "name": "ipython",
    "version": 3
   },
   "file_extension": ".py",
   "mimetype": "text/x-python",
   "name": "python",
   "nbconvert_exporter": "python",
   "pygments_lexer": "ipython3",
   "version": "3.9.13"
  }
 },
 "nbformat": 4,
 "nbformat_minor": 2
}
