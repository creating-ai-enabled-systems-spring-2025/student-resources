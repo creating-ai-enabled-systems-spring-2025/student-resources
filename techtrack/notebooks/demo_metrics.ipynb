{
 "cells": [
  {
   "cell_type": "markdown",
   "metadata": {},
   "source": [
    "# Demonstrating Metrics"
   ]
  },
  {
   "cell_type": "code",
   "execution_count": null,
   "metadata": {
    "vscode": {
     "languageId": "plaintext"
    }
   },
   "outputs": [],
   "source": []
  },
  {
   "cell_type": "markdown",
   "metadata": {},
   "source": [
    "#### **Task 4: Assignment Instructions:**\n",
    "A. Provide the precision-recall curve for each of the classes.\n",
    "B. Calculate the Average Precision of each class.\n",
    "C. Measure the mAP of YOLO Model 1.\n",
    "\n",
    "**Reminder:**  \n",
    "- Your notebook should be well-structured and clear for effective presentation. Up to 10 points may be deducted for poor structure and clarity.\n",
    "- Consider this report as if it were being reviewed by **TechTrack stakeholders**. Keep it professional, insightful, and visually organized!\n",
    "- Use visualizations, tables, and quantitative analysis where applicable to support your findings."
   ]
  },
  {
   "cell_type": "markdown",
   "metadata": {},
   "source": [
    "---"
   ]
  },
  {
   "cell_type": "markdown",
   "metadata": {},
   "source": []
  }
 ],
 "metadata": {
  "language_info": {
   "name": "python"
  }
 },
 "nbformat": 4,
 "nbformat_minor": 2
}
