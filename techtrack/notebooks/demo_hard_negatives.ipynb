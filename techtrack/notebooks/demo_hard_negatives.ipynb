{
 "cells": [
  {
   "cell_type": "markdown",
   "metadata": {},
   "source": [
    "# Demonstration of Hard Negative Mining"
   ]
  },
  {
   "cell_type": "code",
   "execution_count": 14,
   "metadata": {},
   "outputs": [],
   "source": [
    "import os\n",
    "import cv2\n",
    "import numpy as np\n",
    "import pandas as pd\n",
    "\n",
    "import sys\n",
    "sys.path.append(\"..\")\n",
    "\n",
    "from modules.utils.loss import Loss\n",
    "from modules.inference.model import Detector\n",
    "from modules.inference.nms import NMS\n",
    "from modules.rectification.hard_negative_mining import HardNegativeMiner"
   ]
  },
  {
   "cell_type": "markdown",
   "metadata": {},
   "source": [
    "### Initialize the required components\n",
    "You will need to initialize Detector, NMS, and Loss objects."
   ]
  },
  {
   "cell_type": "code",
   "execution_count": 15,
   "metadata": {},
   "outputs": [
    {
     "name": "stdout",
     "output_type": "stream",
     "text": [
      "[INFO] Loading YOLO Model...\n",
      "[INFO] Model loaded successfully.\n",
      "[INFO] Initializing Non-Maximum Suppression...\n",
      "[INFO] NMS initialized.\n",
      "[INFO] Initializing (modified) YOLO Loss...\n",
      "[INFO] Loss initialized.\n"
     ]
    }
   ],
   "source": [
    "## Initialize Model\n",
    "WEIGHTS_PATH = \"../storage/yolo_models/yolov4-tiny-logistics_size_416_1.weights\"\n",
    "CONFIG_PATH = \"../storage/yolo_models/yolov4-tiny-logistics_size_416_1.cfg\"\n",
    "CLASS_NAMES_PATH = \"../storage/yolo_models/logistics.names\"\n",
    "SCORE_THRESHOLD = 0.2\n",
    "\n",
    "print(\"[INFO] Loading YOLO Model...\")\n",
    "detector = Detector(WEIGHTS_PATH, CONFIG_PATH, CLASS_NAMES_PATH, SCORE_THRESHOLD)\n",
    "print(\"[INFO] Model loaded successfully.\")\n",
    "\n",
    "## Initialize NMS\n",
    "IOU_THRESHOLD = 0.5\n",
    "print(\"[INFO] Initializing Non-Maximum Suppression...\")\n",
    "nms = NMS(SCORE_THRESHOLD, IOU_THRESHOLD)\n",
    "print(\"[INFO] NMS initialized.\")\n",
    "\n",
    "## Initialize Loss\n",
    "NUM_CLASSES = 20\n",
    "LAMBDA_COORD = 0.5\n",
    "LAMBDA_NOOBJ = 0.5\n",
    "print(\"[INFO] Initializing (modified) YOLO Loss...\")\n",
    "measure = Loss(num_classes=NUM_CLASSES, \n",
    "                iou_threshold=IOU_THRESHOLD, \n",
    "                lambda_coord=LAMBDA_COORD, \n",
    "                lambda_noobj=LAMBDA_NOOBJ)\n",
    "print(\"[INFO] Loss initialized.\")"
   ]
  },
  {
   "cell_type": "markdown",
   "metadata": {},
   "source": [
    "### Initialize HardNegativeMiner"
   ]
  },
  {
   "cell_type": "code",
   "execution_count": 16,
   "metadata": {},
   "outputs": [
    {
     "name": "stdout",
     "output_type": "stream",
     "text": [
      "[INFO] Initializing HardNegativeMiner...\n",
      "[INFO] HardNegativeMiner initialized.\n"
     ]
    }
   ],
   "source": [
    "# Specify dataset directory\n",
    "dataset_directory = \"../storage/logistics_mini\" # HINT: When developing, you might want to test on a smaller sample dataset! However, you must run through the entire dataset for your analysis.\n",
    "\n",
    "# Initialize the HardNegativeMiner\n",
    "print(\"[INFO] Initializing HardNegativeMiner...\")\n",
    "hard_negative_miner = HardNegativeMiner(detector, nms, measure, dataset_directory)\n",
    "print(\"[INFO] HardNegativeMiner initialized.\")"
   ]
  },
  {
   "cell_type": "markdown",
   "metadata": {},
   "source": [
    "[comment]: <> (This is a comment for spacing, it will not be included)"
   ]
  },
  {
   "cell_type": "markdown",
   "metadata": {},
   "source": [
    "---"
   ]
  },
  {
   "cell_type": "markdown",
   "metadata": {},
   "source": [
    "## Assignment Tasks:\n",
    "\n",
    "**Reminder:**  \n",
    "- Ensure your notebook is **well-structured** and **clear** for presentation. At most, ten points will be deducted for this notebook's structure and clarity.\n",
    "- Consider this report as if it were being reviewed by **TechTrack stakeholders**. Keep it professional, insightful, and visually organized!"
   ]
  },
  {
   "cell_type": "markdown",
   "metadata": {},
   "source": [
    "---"
   ]
  },
  {
   "cell_type": "markdown",
   "metadata": {},
   "source": [
    "### **Baseline**\n",
    "#### Displaying hard negatives using the default parameters\n",
    "- Display the **top 10** and **bottom 10** hard negatives using the default parameters (as provided above).\n"
   ]
  },
  {
   "cell_type": "code",
   "execution_count": 17,
   "metadata": {},
   "outputs": [],
   "source": [
    "# ...write code here. Use as many cells as needed..."
   ]
  },
  {
   "cell_type": "markdown",
   "metadata": {},
   "source": [
    "[comment]: <> (This is a comment for spacing, it will not be included)"
   ]
  },
  {
   "cell_type": "markdown",
   "metadata": {},
   "source": [
    "---"
   ]
  },
  {
   "cell_type": "markdown",
   "metadata": {},
   "source": [
    "### **Task A**\n",
    "\n",
    "**1. Displaying hard negatives while varying loss parameters**  \n",
    "\n",
    "- Display the **top 10** and **bottom 10** hard negatives with:  \n",
    "  - **λ_coord** = **1.0**  \n",
    "  - **λ_noobj** = **0.1**  \n",
    "\n",
    "- Display the **top 10** and **bottom 10** hard negatives with:  \n",
    "  - **λ_coord** = **0.1**  \n",
    "  - **λ_noobj** = **1.0**  \n",
    "\n",
    "**2. Observations & Analysis**  \n",
    "\n",
    "- How do different loss parameter settings (**λ_coord**, **λ_noobj**) impact the selection of hard negatives?  \n",
    "- What types of samples are prioritized under each criterion?  \n",
    "- Under what conditions would each parameter set be **most useful** for improving the model’s performance? "
   ]
  },
  {
   "cell_type": "code",
   "execution_count": 18,
   "metadata": {},
   "outputs": [],
   "source": [
    "# ...write code here. Use as many cells as needed..."
   ]
  },
  {
   "cell_type": "markdown",
   "metadata": {},
   "source": [
    "#### Observations:\n",
    "...place your observations and analysis in this Markdown cell..."
   ]
  },
  {
   "cell_type": "markdown",
   "metadata": {},
   "source": [
    "[comment]: <> (This is a comment, for spacing)"
   ]
  },
  {
   "cell_type": "markdown",
   "metadata": {},
   "source": [
    "---"
   ]
  },
  {
   "cell_type": "markdown",
   "metadata": {},
   "source": [
    "### **Task B:**\n",
    "\n",
    "**1. Displaying Hard Negatives Varying Detector and NMS Parameters**  \n",
    "\n",
    "- Display the **top 10** and **bottom 10** hard negatives with:  \n",
    "  - *score_threshold = **0.5**\n",
    "  - *iou_threshold = **0.1**\n",
    "\n",
    "- Display the **top 10** and **bottom 10** hard negatives with:  \n",
    "  - *score_threshold* = **0.5**\n",
    "  - *iou_threshold* = **0.9** \n",
    "\n",
    "**2. Observations & Analysis**  \n",
    "\n",
    "- How do different detector and non-maximum supression parameter settings (**score_threshold**, **iou_threshold**) impact the selection of hard negatives?  \n",
    "- What types of samples are prioritized under each criterion?  \n",
    "- Under what conditions would each parameter be **most useful** for improving the model’s performance?  "
   ]
  },
  {
   "cell_type": "code",
   "execution_count": 19,
   "metadata": {},
   "outputs": [],
   "source": [
    "# ...write code here. Use as many cells as needed..."
   ]
  },
  {
   "cell_type": "markdown",
   "metadata": {},
   "source": [
    "#### Observations:\n",
    "...place your observations and analysis in this Markdown cell..."
   ]
  },
  {
   "cell_type": "markdown",
   "metadata": {},
   "source": [
    "[comment]: <> (This is a comment for spacing, it will not be included)"
   ]
  },
  {
   "cell_type": "markdown",
   "metadata": {},
   "source": [
    "---"
   ]
  },
  {
   "cell_type": "markdown",
   "metadata": {},
   "source": [
    "### **Task C:**\n",
    "\n",
    "**1. Displaying hard negatives while varying HardNegativeMiner parameters**  \n",
    "\n",
    "- Display the **top 10** and **bottom 10** hard negatives using the default parameters:  \n",
    "  - *criteria* = `total_loss`\n",
    "\n",
    "- Display the **top 10** and **bottom 10** hard negatives with:  \n",
    "  - *criteria* = `loc_loss`\n",
    "\n",
    "- Display the **top 10** and **bottom 10** hard negatives with:  \n",
    "  - *criteria* = `conf_loss_obj`\n",
    "\n",
    "- Display the **top 10** and **bottom 10** hard negatives with:  \n",
    "  - *criteria* = `class_loss`\n",
    "\n",
    "**2. Observations & Analysis**  \n",
    "\n",
    "- How do different loss parameter settings (**criteria**) impact the selection of hard negatives?  \n",
    "- What types of samples are prioritized under each criterion?  \n",
    "- Under what conditions would each parameter be **most useful** for improving the model’s performance?  "
   ]
  },
  {
   "cell_type": "code",
   "execution_count": 20,
   "metadata": {},
   "outputs": [],
   "source": [
    "# ...write code here. Use as many cells as needed..."
   ]
  },
  {
   "cell_type": "markdown",
   "metadata": {},
   "source": [
    "#### Observations:\n",
    "...place your observations and analysis in this Markdown cell..."
   ]
  },
  {
   "cell_type": "markdown",
   "metadata": {},
   "source": []
  }
 ],
 "metadata": {
  "kernelspec": {
   "display_name": "ai_systems",
   "language": "python",
   "name": "python3"
  },
  "language_info": {
   "codemirror_mode": {
    "name": "ipython",
    "version": 3
   },
   "file_extension": ".py",
   "mimetype": "text/x-python",
   "name": "python",
   "nbconvert_exporter": "python",
   "pygments_lexer": "ipython3",
   "version": "3.9.13"
  }
 },
 "nbformat": 4,
 "nbformat_minor": 2
}
