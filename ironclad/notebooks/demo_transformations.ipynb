{
 "cells": [
  {
   "cell_type": "markdown",
   "metadata": {},
   "source": [
    "# Demonstration of Noise"
   ]
  },
  {
   "cell_type": "code",
   "execution_count": null,
   "metadata": {},
   "outputs": [],
   "source": [
    "# Add import statements here"
   ]
  },
  {
   "cell_type": "markdown",
   "metadata": {},
   "source": [
    "---"
   ]
  },
  {
   "cell_type": "markdown",
   "metadata": {},
   "source": [
    "#### **Task 4: Assignment Instructions:**\n",
    "\n",
    "Transform the five probe images using the following transformations below. Repeat Tasks 2 and 3 using the transformed images and note your observations describing the performance impacts of various noise transformations and varying degrees of severity pertinent to the case.\n",
    "\n",
    "- Drew Barrymore\n",
    "- Warren Buffet\n",
    "- Owen Wilson\n",
    "- Nelson Mandela\n",
    "- Ian Thorpe"
   ]
  },
  {
   "cell_type": "code",
   "execution_count": null,
   "metadata": {},
   "outputs": [],
   "source": [
    "# Add code here, use as many cells as needed"
   ]
  },
  {
   "cell_type": "markdown",
   "metadata": {},
   "source": [
    "#### Observations:\n",
    "...place your observations and analysis in this Markdown cell..."
   ]
  },
  {
   "cell_type": "markdown",
   "metadata": {},
   "source": []
  }
 ],
 "metadata": {
  "language_info": {
   "name": "python"
  }
 },
 "nbformat": 4,
 "nbformat_minor": 2
}
